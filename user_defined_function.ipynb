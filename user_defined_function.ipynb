{
 "cells": [
  {
   "cell_type": "markdown",
   "metadata": {},
   "source": [
    "4 types of function in user defined :-\n"
   ]
  },
  {
   "cell_type": "markdown",
   "metadata": {},
   "source": [
    "1 . Non parameterized function "
   ]
  },
  {
   "cell_type": "code",
   "execution_count": 3,
   "metadata": {},
   "outputs": [],
   "source": [
    "#define a function \n",
    "def message ():\n",
    "    print(\"good morning \")"
   ]
  },
  {
   "cell_type": "code",
   "execution_count": 6,
   "metadata": {},
   "outputs": [
    {
     "name": "stdout",
     "output_type": "stream",
     "text": [
      "good morning \n"
     ]
    }
   ],
   "source": [
    "#call(use)\n",
    "message()"
   ]
  },
  {
   "cell_type": "code",
   "execution_count": 7,
   "metadata": {},
   "outputs": [],
   "source": [
    "def si ():\n",
    "    p = int(input(\"Enter Principal Amount:\"))\n",
    "    r = float(input(\"Enter rate of Interest:\"))\n",
    "    t = int (input(\"Enter Time in years :\"))\n",
    "    si = p*r*t/100\n",
    "    print(f'Simple Interest is {si}')"
   ]
  },
  {
   "cell_type": "code",
   "execution_count": 8,
   "metadata": {},
   "outputs": [
    {
     "name": "stdout",
     "output_type": "stream",
     "text": [
      "Simple Interest is 27.0\n"
     ]
    }
   ],
   "source": [
    "si()"
   ]
  },
  {
   "cell_type": "markdown",
   "metadata": {},
   "source": [
    "2 . Prametreized function \n",
    "  - Required Prameter\n",
    "  - default   \"\n",
    "  - keyword  argument \n",
    "  - variable argument \n",
    "  - variable keyword argument"
   ]
  },
  {
   "cell_type": "code",
   "execution_count": 9,
   "metadata": {},
   "outputs": [],
   "source": [
    "def hypotenuse(p,b):\n",
    "    h = (p**2+b**2)** .5\n",
    "    print(f'hyp:{h}')"
   ]
  },
  {
   "cell_type": "code",
   "execution_count": 11,
   "metadata": {},
   "outputs": [
    {
     "name": "stdout",
     "output_type": "stream",
     "text": [
      "hyp:50.0\n"
     ]
    }
   ],
   "source": [
    "hypotenuse(30,40)"
   ]
  },
  {
   "cell_type": "code",
   "execution_count": 12,
   "metadata": {},
   "outputs": [],
   "source": [
    "def hypotenuse (p:int, b:int):\n",
    "    ''' \n",
    "    This function take perpendicular and base to calculatre hypotenuse\n",
    "    '''\n",
    "    h = (p**2 + b**2) ** .5\n",
    "    print(f'hyp:{h}')"
   ]
  },
  {
   "cell_type": "code",
   "execution_count": 14,
   "metadata": {},
   "outputs": [
    {
     "name": "stdout",
     "output_type": "stream",
     "text": [
      "hyp:54.08326913195984\n"
     ]
    }
   ],
   "source": [
    "hypotenuse(45,30)"
   ]
  },
  {
   "cell_type": "code",
   "execution_count": 21,
   "metadata": {},
   "outputs": [],
   "source": [
    "# types of error \n",
    "# 1. hypotenuse(32)\n",
    "# 2. hypotenuse (1,2,3)\n",
    "# 3. hypotenuse ()\n"
   ]
  },
  {
   "cell_type": "markdown",
   "metadata": {},
   "source": [
    "default parameters\n",
    "- always start giving defaults from the right side (end)\n",
    "- default values can be of any datatypes"
   ]
  },
  {
   "cell_type": "code",
   "execution_count": 16,
   "metadata": {},
   "outputs": [],
   "source": [
    "def summer (a,b,c = 0 ,d= 0):\n",
    "    print(a+b+c+d)"
   ]
  },
  {
   "cell_type": "code",
   "execution_count": 17,
   "metadata": {},
   "outputs": [
    {
     "name": "stdout",
     "output_type": "stream",
     "text": [
      "235\n"
     ]
    }
   ],
   "source": [
    "summer (42,53,65,75)"
   ]
  },
  {
   "cell_type": "code",
   "execution_count": 18,
   "metadata": {},
   "outputs": [
    {
     "name": "stdout",
     "output_type": "stream",
     "text": [
      "119\n"
     ]
    }
   ],
   "source": [
    "summer(54,65)"
   ]
  },
  {
   "cell_type": "code",
   "execution_count": 19,
   "metadata": {},
   "outputs": [
    {
     "name": "stdout",
     "output_type": "stream",
     "text": [
      "150\n"
     ]
    }
   ],
   "source": [
    "summer (85,65)"
   ]
  },
  {
   "cell_type": "code",
   "execution_count": 22,
   "metadata": {},
   "outputs": [],
   "source": [
    "def area_of_circle(radius = 1):\n",
    "    area = 22/7* radius **2\n",
    "    print(area)"
   ]
  },
  {
   "cell_type": "code",
   "execution_count": 23,
   "metadata": {},
   "outputs": [
    {
     "name": "stdout",
     "output_type": "stream",
     "text": [
      "314.2857142857143\n"
     ]
    }
   ],
   "source": [
    "area_of_circle(10)"
   ]
  },
  {
   "cell_type": "markdown",
   "metadata": {},
   "source": [
    "keywords arguments ( named arguments )"
   ]
  },
  {
   "cell_type": "code",
   "execution_count": 24,
   "metadata": {},
   "outputs": [
    {
     "name": "stdout",
     "output_type": "stream",
     "text": [
      "14\n"
     ]
    }
   ],
   "source": [
    "summer (1,2,5,6)"
   ]
  },
  {
   "cell_type": "code",
   "execution_count": 29,
   "metadata": {},
   "outputs": [
    {
     "name": "stdout",
     "output_type": "stream",
     "text": [
      "21\n",
      "21\n",
      "21\n",
      "27\n",
      "6364.285714285714\n"
     ]
    }
   ],
   "source": [
    "summer(a=1 , b=5,c=6,d=9)\n",
    "summer(1,2,c=10,d= 8)\n",
    "summer(1,2,d=8,c=10)\n",
    "summer(a=5,b=6,c=9,d=7)\n",
    "area_of_circle(45)"
   ]
  },
  {
   "cell_type": "markdown",
   "metadata": {},
   "source": [
    "variable arguments "
   ]
  },
  {
   "cell_type": "code",
   "execution_count": 31,
   "metadata": {},
   "outputs": [],
   "source": [
    "def mean (*data):\n",
    "    ans = sum(data)/len(data)\n",
    "    print(f\"average:{ans}\")"
   ]
  },
  {
   "cell_type": "code",
   "execution_count": 32,
   "metadata": {},
   "outputs": [
    {
     "name": "stdout",
     "output_type": "stream",
     "text": [
      "average:6.333333333333333\n"
     ]
    }
   ],
   "source": [
    "mean(5,6,8)"
   ]
  },
  {
   "cell_type": "code",
   "execution_count": 33,
   "metadata": {},
   "outputs": [
    {
     "name": "stdout",
     "output_type": "stream",
     "text": [
      "average:9.7\n"
     ]
    }
   ],
   "source": [
    "mean(5,6,6,5,5,4,5,1,5,55)"
   ]
  },
  {
   "cell_type": "code",
   "execution_count": null,
   "metadata": {},
   "outputs": [],
   "source": []
  }
 ],
 "metadata": {
  "kernelspec": {
   "display_name": "base",
   "language": "python",
   "name": "python3"
  },
  "language_info": {
   "codemirror_mode": {
    "name": "ipython",
    "version": 3
   },
   "file_extension": ".py",
   "mimetype": "text/x-python",
   "name": "python",
   "nbconvert_exporter": "python",
   "pygments_lexer": "ipython3",
   "version": "3.11.4"
  },
  "orig_nbformat": 4
 },
 "nbformat": 4,
 "nbformat_minor": 2
}
